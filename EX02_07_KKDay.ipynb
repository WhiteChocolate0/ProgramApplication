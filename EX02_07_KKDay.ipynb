{
  "nbformat": 4,
  "nbformat_minor": 0,
  "metadata": {
    "colab": {
      "provenance": [],
      "authorship_tag": "ABX9TyMm3rWGf9S8b3yknrW5YHLn",
      "include_colab_link": true
    },
    "kernelspec": {
      "name": "python3",
      "display_name": "Python 3"
    },
    "language_info": {
      "name": "python"
    }
  },
  "cells": [
    {
      "cell_type": "markdown",
      "metadata": {
        "id": "view-in-github",
        "colab_type": "text"
      },
      "source": [
        "<a href=\"https://colab.research.google.com/github/WhiteChocolate0/ProgramApplication/blob/main/EX02_07_KKDay.ipynb\" target=\"_parent\"><img src=\"https://colab.research.google.com/assets/colab-badge.svg\" alt=\"Open In Colab\"/></a>"
      ]
    },
    {
      "cell_type": "markdown",
      "source": [
        "## 02-07 KKDay\n",
        "\n",
        "*   https://www.kkday.com/zh-tw\n",
        "*   收集 KKday 網站上東京住宿的前十名推薦資料，為旅遊提供參考。\n",
        "*   將資料存成 CSV 檔\n",
        "*   展示收集的資料\n"
      ],
      "metadata": {
        "id": "zFd34hVpqSHj"
      }
    },
    {
      "cell_type": "code",
      "execution_count": null,
      "metadata": {
        "id": "IN22-w3Ip22g"
      },
      "outputs": [],
      "source": []
    }
  ]
}