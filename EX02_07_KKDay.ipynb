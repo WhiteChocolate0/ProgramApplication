{
  "nbformat": 4,
  "nbformat_minor": 0,
  "metadata": {
    "colab": {
      "provenance": [],
      "authorship_tag": "ABX9TyPiArkCnNgz3MTpIlP4KHpa",
      "include_colab_link": true
    },
    "kernelspec": {
      "name": "python3",
      "display_name": "Python 3"
    },
    "language_info": {
      "name": "python"
    }
  },
  "cells": [
    {
      "cell_type": "markdown",
      "metadata": {
        "id": "view-in-github",
        "colab_type": "text"
      },
      "source": [
        "<a href=\"https://colab.research.google.com/github/WhiteChocolate0/ProgramApplication/blob/main/EX02_07_KKDay.ipynb\" target=\"_parent\"><img src=\"https://colab.research.google.com/assets/colab-badge.svg\" alt=\"Open In Colab\"/></a>"
      ]
    },
    {
      "cell_type": "markdown",
      "source": [
        "## EX02-07 KKDay\n",
        "\n",
        "*   https://www.kkday.com/zh-tw\n",
        "*   收集 KKday 網站上東京住宿的前十名推薦資料，為旅遊提供參考。\n",
        "*   將資料存成 CSV 檔\n",
        "*   展示收集的資料\n"
      ],
      "metadata": {
        "id": "zFd34hVpqSHj"
      }
    },
    {
      "cell_type": "code",
      "execution_count": null,
      "metadata": {
        "colab": {
          "base_uri": "https://localhost:8080/"
        },
        "id": "IN22-w3Ip22g",
        "outputId": "7c7282d5-8b26-4183-b538-b39e7d6d6947"
      },
      "outputs": [
        {
          "output_type": "execute_result",
          "data": {
            "text/plain": [
              "<title>最熱門 東京 住宿 - 2025 更新 - KKday</title>"
            ]
          },
          "metadata": {},
          "execution_count": 2
        }
      ],
      "source": [
        "import requests\n",
        "from bs4 import BeautifulSoup\n",
        "url = 'https://www.kkday.com/zh-tw/category/jp-tokyo/accommodation'\n",
        "headers = {'user-agent': 'Mozilla/5.0 (Windows NT 10.0; Win64; x64) AppleWebKit/537.36 (KHTML, like Gecko) Chrome/129.0.0.0 Safari/537.36'}\n",
        "response = requests.get(url, headers=headers)\n",
        "soup = BeautifulSoup(response.text, 'lxml')\n",
        "soup.title"
      ]
    },
    {
      "cell_type": "code",
      "source": [
        "import requests\n",
        "url = 'https://www.kkday.com/zh-tw/category/ajax_get_top_products?productCategory=CATEGORY_078&destination=D-JP-3261'\n",
        "headers = {'user-agent': 'Mozilla/5.0 (Windows NT 10.0; Win64; x64) AppleWebKit/537.36 (KHTML, like Gecko) Chrome/129.0.0.0 Safari/537.36'}\n",
        "response = requests.get (url,headers=headers)\n",
        "hotels = response.json ()"
      ],
      "metadata": {
        "id": "bSm1h7NV8UEV"
      },
      "execution_count": null,
      "outputs": []
    },
    {
      "cell_type": "code",
      "source": [
        "hotels['data'][0]"
      ],
      "metadata": {
        "colab": {
          "base_uri": "https://localhost:8080/"
        },
        "id": "Oi4C7Sxl8dgg",
        "outputId": "aa00b79e-b579-44d9-97dd-fb7a0ff23159"
      },
      "execution_count": null,
      "outputs": [
        {
          "output_type": "execute_result",
          "data": {
            "text/plain": [
              "{'id': 192397,\n",
              " 'prod_oid': 192397,\n",
              " 'name': 'APA飯店及度假村 東京灣潮見',\n",
              " 'introduction': 'APA飯店及度假村 東京灣潮見,位於潮見地區,適合家庭旅客。馬上預訂,享受便利的東京灣之行!',\n",
              " 'rating_count': 0,\n",
              " 'rating_star': 0,\n",
              " 'order_count': 2,\n",
              " 'show_order_count': '',\n",
              " 'confirm_hour': 0,\n",
              " 'instant_booking': True,\n",
              " 'instant_use': True,\n",
              " 'free_refund_policy': True,\n",
              " 'free_refund_before_day': 1,\n",
              " 'earliest_sale_date': '20250416',\n",
              " 'sale_status': '1',\n",
              " 'purchase_type': None,\n",
              " 'purchase_date': None,\n",
              " 'is_tourism_product': True,\n",
              " 'readable_url': None,\n",
              " 'main_cat_key': 'M01',\n",
              " 'product_category': {'main': 'CATEGORY_078', 'sub': []},\n",
              " 'promo_tag_keys': [],\n",
              " 'cat_key': ['TAG_6_1'],\n",
              " 'theme_code': [],\n",
              " 'product_labels': [],\n",
              " 'img_url': 'https://image.kkday.com/image/get/w_600%2Cc_fit/s1.kkday.com/product_192397/20241006214013_w9bLi/png',\n",
              " 'img_url_list': ['https://image.kkday.com/image/get/w_600%2Cc_fit/s1.kkday.com/product_192397/20241006214013_w9bLi/png',\n",
              "  'https://image.kkday.com/image/get/w_600%2Cc_fit/s1.kkday.com/product_192397/20241006214013_n4C16/png',\n",
              "  'https://image.kkday.com/image/get/w_600%2Cc_fit/s1.kkday.com/product_192397/20241006214013_fTfM0/png',\n",
              "  'https://image.kkday.com/image/get/w_600%2Cc_fit/s1.kkday.com/product_192397/20241006214013_S1x81/png',\n",
              "  'https://image.kkday.com/image/get/w_600%2Cc_fit/s1.kkday.com/product_192397/20241006214013_hf9dZ/png'],\n",
              " 'duration': 0,\n",
              " 'days': 0,\n",
              " 'hours': 0,\n",
              " 'minutes': 0,\n",
              " 'currency': 'TWD',\n",
              " 'display_sale_price': '1,700',\n",
              " 'sale_price': 1700,\n",
              " 'display_price': '1,700',\n",
              " 'price': 1700,\n",
              " 'discount': 0,\n",
              " 'is_display_price': False,\n",
              " 'app_cheaper_than_web': False,\n",
              " 'max_price': 15847,\n",
              " 'countries': [{'id': 'A01-003',\n",
              "   'name': '日本',\n",
              "   'cities': [{'id': 'A01-003-99999', 'name': '所有城市'},\n",
              "    {'id': 'A01-003-00001', 'name': '東京'}]}],\n",
              " 'is_marketplace': False,\n",
              " 'supplier_oid_list': ['21011'],\n",
              " 'supplier_name': None,\n",
              " 'supplier_logo': None,\n",
              " 'supplier_award': 0,\n",
              " 'supplier_badge': 0,\n",
              " 'is_zero_price': False,\n",
              " 'destinations': [{'code': 'D-JP-3261', 'name': '東京'},\n",
              "  {'code': 'D-JP-3218', 'name': '關東'},\n",
              "  {'code': 'D-JP-112', 'name': '日本'}]}"
            ]
          },
          "metadata": {},
          "execution_count": 6
        }
      ]
    },
    {
      "cell_type": "code",
      "source": [
        "from IPython.display import Image, display\n",
        "for hotel in hotels ['data']:\n",
        "  print (hotel ['name'],hotel['rating_star'],hotel['sale_price'])\n",
        "  print (hotel['introduction'])\n",
        "  display(Image(url=hotel['img_url'], width=300))\n",
        "  print ('-'*3)\n",
        "  print ()"
      ],
      "metadata": {
        "colab": {
          "base_uri": "https://localhost:8080/",
          "height": 1000
        },
        "id": "b0qOKdGx8nKW",
        "outputId": "45951e2b-b3be-4d72-df23-2901b4186473"
      },
      "execution_count": null,
      "outputs": [
        {
          "output_type": "stream",
          "name": "stdout",
          "text": [
            "APA飯店及度假村 東京灣潮見 0 1700\n",
            "APA飯店及度假村 東京灣潮見,位於潮見地區,適合家庭旅客。馬上預訂,享受便利的東京灣之行!\n"
          ]
        },
        {
          "output_type": "display_data",
          "data": {
            "text/html": [
              "<img src=\"https://image.kkday.com/image/get/w_600%2Cc_fit/s1.kkday.com/product_192397/20241006214013_w9bLi/png\" width=\"300\"/>"
            ],
            "text/plain": [
              "<IPython.core.display.Image object>"
            ]
          },
          "metadata": {}
        },
        {
          "output_type": "stream",
          "name": "stdout",
          "text": [
            "---\n",
            "\n",
            "APA 飯店 - 鳥取站北 0 1700\n",
            "2016 年 6 月 17 日開幕,巢鴨站前全新落成、附設大浴場的酒店! 從山手線 巢鴨站 搭乘普通電車 (3分鐘)\n"
          ]
        },
        {
          "output_type": "display_data",
          "data": {
            "text/html": [
              "<img src=\"https://image.kkday.com/image/get/w_600%2Cc_fit/s1.kkday.com/product_193071/20241007044414_aZTd2/png\" width=\"300\"/>"
            ],
            "text/plain": [
              "<IPython.core.display.Image object>"
            ]
          },
          "metadata": {}
        },
        {
          "output_type": "stream",
          "name": "stdout",
          "text": [
            "---\n",
            "\n",
            "東京押上京成里士滿飯店 5 2775\n",
            "東京押上京成里士滿飯店,距離押上站步行可達,提供舒適住宿。即刻預訂,享受東京的都市生活!\n"
          ]
        },
        {
          "output_type": "display_data",
          "data": {
            "text/html": [
              "<img src=\"https://image.kkday.com/image/get/w_600%2Cc_fit/s1.kkday.com/product_192442/20241012060315_EdJAk/png\" width=\"300\"/>"
            ],
            "text/plain": [
              "<IPython.core.display.Image object>"
            ]
          },
          "metadata": {}
        },
        {
          "output_type": "stream",
          "name": "stdout",
          "text": [
            "---\n",
            "\n",
            "相鐵FRESA INN 東京田町 0 1800\n",
            "位於都心重要地區連結各地方皆便利、商務觀光皆適合! 從山手線 東京站 搭乘普通電車到山手線 田町站 (8分鐘), 從山手線 田町站 步行 (4分鐘)\n"
          ]
        },
        {
          "output_type": "display_data",
          "data": {
            "text/html": [
              "<img src=\"https://image.kkday.com/image/get/w_600%2Cc_fit/s1.kkday.com/product_194855/20241009053740_8rEGz/png\" width=\"300\"/>"
            ],
            "text/plain": [
              "<IPython.core.display.Image object>"
            ]
          },
          "metadata": {}
        },
        {
          "output_type": "stream",
          "name": "stdout",
          "text": [
            "---\n",
            "\n",
            "上野御徒町超級飯店 5 2208\n",
            "上野御徒町超級飯店,靠近上野公園和博物館,便捷至東京主要景點,立即預訂,享受便利住宿!\n"
          ]
        },
        {
          "output_type": "display_data",
          "data": {
            "text/html": [
              "<img src=\"https://image.kkday.com/image/get/w_600%2Cc_fit/s1.kkday.com/product_244886/20241006071617_0EYB1/png\" width=\"300\"/>"
            ],
            "text/plain": [
              "<IPython.core.display.Image object>"
            ]
          },
          "metadata": {}
        },
        {
          "output_type": "stream",
          "name": "stdout",
          "text": [
            "---\n",
            "\n",
            "APA 飯店 - 上野站南 0 1700\n",
            "APA Hotel Ueno Ekiminami is are in a good location that is a 4 minute walk from the Ueno station. 從銀座線 上野站 步行 (4分鐘)\n"
          ]
        },
        {
          "output_type": "display_data",
          "data": {
            "text/html": [
              "<img src=\"https://image.kkday.com/image/get/w_600%2Cc_fit/s1.kkday.com/product_195297/20241009181904_fcG2A/png\" width=\"300\"/>"
            ],
            "text/plain": [
              "<IPython.core.display.Image object>"
            ]
          },
          "metadata": {}
        },
        {
          "output_type": "stream",
          "name": "stdout",
          "text": [
            "---\n",
            "\n",
            "APA 飯店 - 京成上野站前 5 1975\n",
            "APA 飯店 - 京成上野站前,位於上野站前,方便探索東京景點。立即預訂,享受上野的都市便捷!\n"
          ]
        },
        {
          "output_type": "display_data",
          "data": {
            "text/html": [
              "<img src=\"https://image.kkday.com/image/get/w_600%2Cc_fit/s1.kkday.com/product_187328/20241002110220_WNY3P/png\" width=\"300\"/>"
            ],
            "text/plain": [
              "<IPython.core.display.Image object>"
            ]
          },
          "metadata": {}
        },
        {
          "output_type": "stream",
          "name": "stdout",
          "text": [
            "---\n",
            "\n",
            "OMO5 東京大塚 by 星野集團 0 5134\n",
            "Surrender toOtsuka's old-fashioned charm 從山手線 東京站 搭乘普通電車到山手線 大塚站 (20分鐘), 從山手線 大塚站 步行 (1分鐘)\n"
          ]
        },
        {
          "output_type": "display_data",
          "data": {
            "text/html": [
              "<img src=\"https://image.kkday.com/image/get/w_600%2Cc_fit/s1.kkday.com/product_250655/20240930163859_2RFQU/png\" width=\"300\"/>"
            ],
            "text/plain": [
              "<IPython.core.display.Image object>"
            ]
          },
          "metadata": {}
        },
        {
          "output_type": "stream",
          "name": "stdout",
          "text": [
            "---\n",
            "\n",
            "日暮里阿爾蒙特飯店 0 3135\n",
            "享受日暮里阿爾蒙特飯店的舒適住宿,便捷至東京主要景點,立即預訂,開啟您的東京之旅!\n"
          ]
        },
        {
          "output_type": "display_data",
          "data": {
            "text/html": [
              "<img src=\"https://image.kkday.com/image/get/w_600%2Cc_fit/s1.kkday.com/product_193898/20241029064831_EWA64/png\" width=\"300\"/>"
            ],
            "text/plain": [
              "<IPython.core.display.Image object>"
            ]
          },
          "metadata": {}
        },
        {
          "output_type": "stream",
          "name": "stdout",
          "text": [
            "---\n",
            "\n",
            "秋葉原灣膠囊旅館 5 1192\n",
            "秋葉原灣膠囊旅館,專為女性設計的膠囊住宿,安全舒適。即刻預訂,享受便捷的秋葉原之行!\n"
          ]
        },
        {
          "output_type": "display_data",
          "data": {
            "text/html": [
              "<img src=\"https://image.kkday.com/image/get/w_600%2Cc_fit/s1.kkday.com/product_187184/20241002060713_qgqsZ/png\" width=\"300\"/>"
            ],
            "text/plain": [
              "<IPython.core.display.Image object>"
            ]
          },
          "metadata": {}
        },
        {
          "output_type": "stream",
          "name": "stdout",
          "text": [
            "---\n",
            "\n"
          ]
        }
      ]
    }
  ]
}