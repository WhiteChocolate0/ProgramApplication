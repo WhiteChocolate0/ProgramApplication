{
  "nbformat": 4,
  "nbformat_minor": 0,
  "metadata": {
    "colab": {
      "provenance": [],
      "toc_visible": true,
      "include_colab_link": true
    },
    "kernelspec": {
      "name": "python3",
      "display_name": "Python 3"
    },
    "language_info": {
      "name": "python"
    }
  },
  "cells": [
    {
      "cell_type": "markdown",
      "metadata": {
        "id": "view-in-github",
        "colab_type": "text"
      },
      "source": [
        "<a href=\"https://colab.research.google.com/github/WhiteChocolate0/ProgramApplication/blob/main/EX04_04_%E5%8A%A0%E5%B7%9E%E6%88%BF%E5%83%B9.ipynb\" target=\"_parent\"><img src=\"https://colab.research.google.com/assets/colab-badge.svg\" alt=\"Open In Colab\"/></a>"
      ]
    },
    {
      "cell_type": "markdown",
      "source": [
        "## EX04-04 加州房價\n",
        "*   使用 Scikit-Learn 內建的加州房價資料集，以梯度下降法線性迴歸預測加州房價中位數。\n",
        "*   需將數值進行 Z 分數標準化。\n",
        "*   以均方誤差 (MSE)評估模型。\n",
        "*   訓練模型後保存模型及標準化量尺，做為未來預測資料使用。\n",
        "清單項目\n",
        "\n"
      ],
      "metadata": {
        "id": "jtkWBGPNMWNI"
      }
    },
    {
      "cell_type": "markdown",
      "source": [
        "## 資料收集"
      ],
      "metadata": {
        "id": "5YCyVo5Xbuq4"
      }
    },
    {
      "cell_type": "markdown",
      "source": [
        "## 資料前處理"
      ],
      "metadata": {
        "id": "C2u_ggR-eJ1d"
      }
    },
    {
      "cell_type": "markdown",
      "source": [
        "### 資料清理"
      ],
      "metadata": {
        "id": "7yHPecJ2eMid"
      }
    },
    {
      "cell_type": "markdown",
      "source": [
        "### 探索性分析"
      ],
      "metadata": {
        "id": "iMtUvzH_eYkd"
      }
    },
    {
      "cell_type": "markdown",
      "source": [
        "### 資料分割"
      ],
      "metadata": {
        "id": "WmpIVCTRfD3t"
      }
    },
    {
      "cell_type": "markdown",
      "source": [
        "### 類別轉換"
      ],
      "metadata": {
        "id": "vQoUGg1t21Yb"
      }
    },
    {
      "cell_type": "markdown",
      "source": [
        "### 特徵縮放"
      ],
      "metadata": {
        "id": "GBE6NKnwesSN"
      }
    },
    {
      "cell_type": "markdown",
      "source": [
        "## 模型訓練"
      ],
      "metadata": {
        "id": "lGoI1XOFfQhd"
      }
    },
    {
      "cell_type": "markdown",
      "source": [
        "## 模型評估"
      ],
      "metadata": {
        "id": "EvdSOhFLfjVP"
      }
    },
    {
      "cell_type": "markdown",
      "source": [
        "## 模型調整"
      ],
      "metadata": {
        "id": "B4c2Nvf1f0c1"
      }
    },
    {
      "cell_type": "markdown",
      "source": [
        "## 模型部署"
      ],
      "metadata": {
        "id": "Wb2EXoPNgH71"
      }
    },
    {
      "cell_type": "markdown",
      "source": [
        "### 儲存模型"
      ],
      "metadata": {
        "id": "wZaQ7GkhodIF"
      }
    },
    {
      "cell_type": "markdown",
      "source": [
        "### 推論預測"
      ],
      "metadata": {
        "id": "3ob1YJN7ovpH"
      }
    }
  ]
}