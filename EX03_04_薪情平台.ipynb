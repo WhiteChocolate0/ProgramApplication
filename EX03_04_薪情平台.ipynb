{
  "nbformat": 4,
  "nbformat_minor": 0,
  "metadata": {
    "colab": {
      "provenance": [],
      "authorship_tag": "ABX9TyPZ0tr49tDgwBZgYCSe7Hnm",
      "include_colab_link": true
    },
    "kernelspec": {
      "name": "python3",
      "display_name": "Python 3"
    },
    "language_info": {
      "name": "python"
    }
  },
  "cells": [
    {
      "cell_type": "markdown",
      "metadata": {
        "id": "view-in-github",
        "colab_type": "text"
      },
      "source": [
        "<a href=\"https://colab.research.google.com/github/WhiteChocolate0/ProgramApplication/blob/main/EX03_04_%E8%96%AA%E6%83%85%E5%B9%B3%E5%8F%B0.ipynb\" target=\"_parent\"><img src=\"https://colab.research.google.com/assets/colab-badge.svg\" alt=\"Open In Colab\"/></a>"
      ]
    },
    {
      "cell_type": "markdown",
      "source": [
        "## EX03-04 薪情平台\n",
        "* Dataset: https://earnings.dgbas.gov.tw/\n",
        "```\n",
        "!wget -O earning.xlsx https://raw.githubusercontent.com/imchihchao/aop113b/main/materials/03-earnings.xlsx\n",
        "```\n",
        "* 請完成以下任務：\n",
        "  * 資料清理（去除空值欄列、重設欄名、重設列索引）\n",
        "  * 找出 81 年薪水最高和最低分別是什麼行業\n",
        "  * 找出 醫療保健及社會工作服務業 最高是那一年\n",
        "  * 找出 113 年薪水最高和最低的前三名分別是什麼行業\n",
        "  * 找出歷年薪水最高的前三名"
      ],
      "metadata": {
        "id": "S8auNoVjlVuK"
      }
    },
    {
      "cell_type": "code",
      "execution_count": null,
      "metadata": {
        "id": "Gi__lK4ylUPR"
      },
      "outputs": [],
      "source": []
    }
  ]
}