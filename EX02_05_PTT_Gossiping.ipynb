{
  "nbformat": 4,
  "nbformat_minor": 0,
  "metadata": {
    "colab": {
      "provenance": [],
      "authorship_tag": "ABX9TyMDXHVG2Ejt/YzH3QlVJ3io",
      "include_colab_link": true
    },
    "kernelspec": {
      "name": "python3",
      "display_name": "Python 3"
    },
    "language_info": {
      "name": "python"
    }
  },
  "cells": [
    {
      "cell_type": "markdown",
      "metadata": {
        "id": "view-in-github",
        "colab_type": "text"
      },
      "source": [
        "<a href=\"https://colab.research.google.com/github/WhiteChocolate0/ProgramApplication/blob/main/EX02_05_PTT_Gossiping.ipynb\" target=\"_parent\"><img src=\"https://colab.research.google.com/assets/colab-badge.svg\" alt=\"Open In Colab\"/></a>"
      ]
    },
    {
      "cell_type": "code",
      "execution_count": null,
      "metadata": {
        "id": "g_KK8TrETB6t"
      },
      "outputs": [],
      "source": []
    },
    {
      "cell_type": "markdown",
      "source": [
        "## EX02-05 PTT Gossiping\n",
        "*  PTT 八卦版：\n",
        "https://www.ptt.cc/bbs/Gossiping/index.html\n",
        "*  爬取 5 頁 PTT 八卦版的文章日期、網址、標題\n",
        "\n"
      ],
      "metadata": {
        "id": "YgSmYscSTDK-"
      }
    }
  ]
}