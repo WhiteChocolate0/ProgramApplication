{
  "nbformat": 4,
  "nbformat_minor": 0,
  "metadata": {
    "colab": {
      "provenance": [],
      "authorship_tag": "ABX9TyNkfkD57OrRyQoP0Rgl9NH1",
      "include_colab_link": true
    },
    "kernelspec": {
      "name": "python3",
      "display_name": "Python 3"
    },
    "language_info": {
      "name": "python"
    }
  },
  "cells": [
    {
      "cell_type": "markdown",
      "metadata": {
        "id": "view-in-github",
        "colab_type": "text"
      },
      "source": [
        "<a href=\"https://colab.research.google.com/github/WhiteChocolate0/ProgramApplication/blob/main/EX02_05_PTT_Gossiping.ipynb\" target=\"_parent\"><img src=\"https://colab.research.google.com/assets/colab-badge.svg\" alt=\"Open In Colab\"/></a>"
      ]
    },
    {
      "cell_type": "markdown",
      "source": [
        "## EX02-05 PTT Gossiping\n",
        "*  PTT 八卦版：\n",
        "https://www.ptt.cc/bbs/Gossiping/index.html\n",
        "*  爬取 5 頁 PTT 八卦版的文章日期、網址、標題\n",
        "\n"
      ],
      "metadata": {
        "id": "YgSmYscSTDK-"
      }
    },
    {
      "cell_type": "code",
      "execution_count": 1,
      "metadata": {
        "colab": {
          "base_uri": "https://localhost:8080/"
        },
        "id": "g_KK8TrETB6t",
        "outputId": "82c9fb1b-ba2b-4f4c-8baa-6b0ffdf8efdf"
      },
      "outputs": [
        {
          "output_type": "execute_result",
          "data": {
            "text/plain": [
              "200"
            ]
          },
          "metadata": {},
          "execution_count": 1
        }
      ],
      "source": [
        "import requests\n",
        "from bs4 import BeautifulSoup\n",
        "\n",
        "url = 'https://www.ptt.cc/bbs/Gossiping/index.html'\n",
        "response = requests.get(url)\n",
        "response.status_code"
      ]
    },
    {
      "cell_type": "code",
      "source": [
        "soup = BeautifulSoup(response.text, 'lxml')\n",
        "soup.title"
      ],
      "metadata": {
        "colab": {
          "base_uri": "https://localhost:8080/"
        },
        "id": "R1m2vymiT7ra",
        "outputId": "d0c965a9-0950-426e-f6be-38e3b466944f"
      },
      "execution_count": 2,
      "outputs": [
        {
          "output_type": "execute_result",
          "data": {
            "text/plain": [
              "<title>看板 Gossiping 文章列表 - 批踢踢實業坊</title>"
            ]
          },
          "metadata": {},
          "execution_count": 2
        }
      ]
    },
    {
      "cell_type": "code",
      "source": [
        "for atcl in soup.find_all('div', class_='r-ent'):\n",
        "  title = atcl.find('div', class_='title').a.text\n",
        "  herf = 'https://www.ptt.cc' + atcl.find('div', class_='title').a.get('href')\n",
        "  date = atcl.find('div', class_='date').text\n",
        "  print(date, herf, title)"
      ],
      "metadata": {
        "colab": {
          "base_uri": "https://localhost:8080/"
        },
        "collapsed": true,
        "id": "C1y3F2exUCat",
        "outputId": "8670c5d7-0fda-4103-c843-618e35c53da0"
      },
      "execution_count": 3,
      "outputs": [
        {
          "output_type": "stream",
          "name": "stdout",
          "text": [
            " 4/01 https://www.ptt.cc/bbs/Gossiping/M.1743492127.A.D0D.html Re: [問卦] 七年級是不是活成了自己討厭的樣子?\n",
            " 4/01 https://www.ptt.cc/bbs/Gossiping/M.1743492203.A.8CB.html [問卦] 即是在開車又不是在開車的聊天\n",
            " 4/01 https://www.ptt.cc/bbs/Gossiping/M.1743492244.A.C56.html [問卦] 腎積水不治療，就是想讓人終生洗腎吧?\n",
            " 4/01 https://www.ptt.cc/bbs/Gossiping/M.1743492253.A.997.html Re: [問卦] 七年級是不是活成了自己討厭的樣子?\n",
            " 4/01 https://www.ptt.cc/bbs/Gossiping/M.1743492265.A.BE2.html Re: [問卦] 不生小孩 一堆怪咖毛的掛?A_A\n",
            " 4/01 https://www.ptt.cc/bbs/Gossiping/M.1743492315.A.E4F.html [新聞] 國民黨譴責中共軍演 批「賴17條」壓縮兩\n",
            " 4/01 https://www.ptt.cc/bbs/Gossiping/M.1743492318.A.D1A.html Re: [問卦] 脆：家裡不能談政治 破防了\n",
            " 4/01 https://www.ptt.cc/bbs/Gossiping/M.1743492362.A.3FF.html [問卦] 台灣做了什麼一直被軍機包圍？\n",
            " 4/01 https://www.ptt.cc/bbs/Gossiping/M.1743492377.A.41D.html [新聞] 柯建銘稱林濁水「假台獨、匪諜」　再嗆：\n",
            " 4/01 https://www.ptt.cc/bbs/Gossiping/M.1743492560.A.04A.html [問卦] 我們要交出甚麼東西才能止戰?\n",
            " 4/01 https://www.ptt.cc/bbs/Gossiping/M.1743492712.A.D5F.html [爆卦] 共軍已經進入24海浬，愚人節還是愚人劫\n",
            " 4/01 https://www.ptt.cc/bbs/Gossiping/M.1743492791.A.F73.html [問卦] 有沒有被檢舉崩潰的八卦？\n",
            " 4/01 https://www.ptt.cc/bbs/Gossiping/M.1743492793.A.9A8.html [問卦] 早上進逼下午懾封 晚上？\n",
            " 4/01 https://www.ptt.cc/bbs/Gossiping/M.1743492846.A.24C.html [問卦] 山道現場助念團？\n",
            " 4/01 https://www.ptt.cc/bbs/Gossiping/M.1743492882.A.CBB.html [問卦] 忠烈祠算台灣SSR的卡池區嗎？\n",
            " 4/01 https://www.ptt.cc/bbs/Gossiping/M.1743493213.A.0DF.html [問卦] 共軍今天登陸後說愚人節快樂就好了對吧\n",
            " 4/01 https://www.ptt.cc/bbs/Gossiping/M.1743493274.A.59C.html Re: [問卦] 笑死翁茲曼38歲還裝15歲\n",
            " 4/01 https://www.ptt.cc/bbs/Gossiping/M.1743493287.A.CB3.html [問卦]新ios支援日本身分證 台灣在幹嘛\n",
            " 4/01 https://www.ptt.cc/bbs/Gossiping/M.1743493299.A.C1E.html [問卦] 想了解不同人對台灣原住民加分的態度\n",
            " 4/01 https://www.ptt.cc/bbs/Gossiping/M.1743493306.A.E61.html [問卦] 認真問：罷免有CD時間嗎？\n",
            "11/02 https://www.ptt.cc/bbs/Gossiping/M.1730554547.A.41C.html Fw: [公告] 請留意新註冊帳號使用信件詐騙\n",
            " 1/21 https://www.ptt.cc/bbs/Gossiping/M.1737398137.A.644.html [公告] 八卦板板規(2025.01.21)\n",
            " 3/12 https://www.ptt.cc/bbs/Gossiping/M.1741791500.A.EB6.html Fw: [公告] 請避免與登入1次之帳號進行交易 發錢\n",
            " 3/28 https://www.ptt.cc/bbs/Gossiping/M.1743146619.A.5A2.html [公告] 八卦板主徵選規則修正&截止時間\n"
          ]
        }
      ]
    },
    {
      "cell_type": "code",
      "source": [
        "'https://www.ptt.cc' + soup.find_all('a', class_='btn wide')[1].get('href')"
      ],
      "metadata": {
        "colab": {
          "base_uri": "https://localhost:8080/",
          "height": 35
        },
        "id": "4mjU990SVGvU",
        "outputId": "8455e688-e7d5-42c3-b630-748265af6bdc"
      },
      "execution_count": 4,
      "outputs": [
        {
          "output_type": "execute_result",
          "data": {
            "text/plain": [
              "'https://www.ptt.cc/bbs/Gossiping/index39036.html'"
            ],
            "application/vnd.google.colaboratory.intrinsic+json": {
              "type": "string"
            }
          },
          "metadata": {},
          "execution_count": 4
        }
      ]
    },
    {
      "cell_type": "markdown",
      "source": [
        "### 電影版"
      ],
      "metadata": {
        "id": "40AyEna-Vke-"
      }
    },
    {
      "cell_type": "code",
      "source": [
        "def get_articles(url):\n",
        "  response = requests.get (url)\n",
        "  soup = BeautifulSoup(response.text, 'lxml')\n",
        "  for atcl in soup. find_all('div', class_='r-ent'):\n",
        "    if atcl. find('div', class_='title').a:\n",
        "      ttle = atcl. find('div', class_='title') .a.text\n",
        "      href = 'https://www.ptt.cc' + atcl.find('div', class_='title').a.get('href')\n",
        "    else:\n",
        "      ttle = atcl. find('div', class_='title'). text.strip()\n",
        "      href = 11\n",
        "    date = atcl. find('div', class_='date'). text\n",
        "    print(date, href, ttle)\n",
        "  url = 'https://www.ptt.cc' + soup.find_all('a', class_='btn wide') [1].get ('href')\n",
        "  return url\n",
        "url = 'https://www.ptt.cc/bbs/Movie/index.html'\n",
        "for i in range (5):\n",
        "  url = get_articles(url)"
      ],
      "metadata": {
        "colab": {
          "base_uri": "https://localhost:8080/"
        },
        "id": "YIXHLb0EVnnT",
        "outputId": "45d8b975-7614-4b49-89c3-06268157dbd2"
      },
      "execution_count": 7,
      "outputs": [
        {
          "output_type": "stream",
          "name": "stdout",
          "text": [
            " 4/01 https://www.ptt.cc/bbs/movie/M.1743441118.A.25E.html [新聞] 《麥塊電影》首波評價兩極化，媒體狂轟：\n",
            " 4/01 https://www.ptt.cc/bbs/movie/M.1743441272.A.A80.html [新聞] 海倫米蘭反對詹姆士龐德推出「女性版本」\n",
            " 4/01 https://www.ptt.cc/bbs/movie/M.1743453258.A.0C3.html [新聞] 約翰·波耶加表示，《星際大戰》「太白了\n",
            " 4/01 https://www.ptt.cc/bbs/movie/M.1743473354.A.F69.html [討論] Sydney Sweeney 正洽談參演《鋼彈》\n",
            " 4/01 https://www.ptt.cc/bbs/movie/M.1743475986.A.30D.html Fw: [情報] 蜘蛛人 超越新宇宙 2027上映\n",
            " 4/01 https://www.ptt.cc/bbs/movie/M.1743477270.A.460.html [情報] 蜘蛛人4 定檔2026.7.31\n",
            " 4/01 https://www.ptt.cc/bbs/movie/M.1743483606.A.01E.html [情報] 披頭四傳記系列電影 2028年4月 同時上映\n",
            " 4/01 https://www.ptt.cc/bbs/movie/M.1743486271.A.32D.html [新聞] 查克史奈德新片將與 UFC 合作 \n",
            " 4/01 https://www.ptt.cc/bbs/movie/M.1743489465.A.C3C.html Re: [新聞] 《白雪公主》票房爛到嚇醒好萊塢！趕緊改\n",
            " 9/04 https://www.ptt.cc/bbs/movie/M.1630756788.A.1FE.html [公告] 電影板板規 2022/12/5\n",
            " 9/15 https://www.ptt.cc/bbs/movie/M.1694784041.A.89F.html [公告] 禁政治版規 及 投票結果\n",
            " 3/31 https://www.ptt.cc/bbs/movie/M.1743382009.A.DDC.html Re: [負雷] 十重點吐槽不知所云的《白雪公主》\n",
            " 3/31 https://www.ptt.cc/bbs/movie/M.1743384740.A.A9F.html Re: [閒聊] 最頂公路電影\n",
            " 3/31 https://www.ptt.cc/bbs/movie/M.1743390267.A.1F7.html [國片]命中注定那頭鵝心得（部分雷）\n",
            " 3/31 https://www.ptt.cc/bbs/movie/M.1743391290.A.6DA.html [討論] 給侏儒演矮人是歧視？不演也不行？\n",
            " 3/31 https://www.ptt.cc/bbs/movie/M.1743394732.A.337.html [ 極好雷]  世界計畫劇場版 心得 （內有雷）\n",
            " 3/31 https://www.ptt.cc/bbs/movie/M.1743398037.A.772.html [新聞] Richard Chamberlain 過世\n",
            " 3/31 https://www.ptt.cc/bbs/movie/M.1743403703.A.53F.html [新聞] 「成龍御用反派」理察諾頓75歲離世 老搭\n",
            " 3/31 https://www.ptt.cc/bbs/movie/M.1743407474.A.8EE.html [選片] 重裝制裁and白熊公主\n",
            " 3/31 https://www.ptt.cc/bbs/movie/M.1743426164.A.5B4.html [請益] 因故辭演 或是救火演出的電影或\n",
            " 3/31 https://www.ptt.cc/bbs/movie/M.1743427223.A.956.html [新聞] 《白雪公主》票房爛到嚇醒好萊塢！趕緊改\n",
            " 3/31 11 (本文已被刪除) [XDGEE]\n",
            " 3/31 https://www.ptt.cc/bbs/movie/M.1743429722.A.2DD.html [新聞] 《薩爾達傳說》真人電影三部曲！拍攝地點\n",
            " 3/31 https://www.ptt.cc/bbs/movie/M.1743429911.A.056.html [新聞] 《末日之戰2》！布萊德彼特籌拍「極機密\n",
            " 3/31 https://www.ptt.cc/bbs/movie/M.1743433168.A.31E.html [好無雷] 同床異夢\n",
            " 3/31 https://www.ptt.cc/bbs/movie/M.1743433468.A.A90.html [超好無雷] Minecraft電影心得\n",
            " 3/31 https://www.ptt.cc/bbs/movie/M.1743434529.A.47B.html [討論] 艋舺續集的可能性\n",
            " 3/31 https://www.ptt.cc/bbs/movie/M.1743434965.A.A72.html Fw: [普雷] A Minecraft Movie 麥塊電影（有防雷）\n",
            " 3/31 https://www.ptt.cc/bbs/movie/M.1743436378.A.F49.html [新聞] 佩德羅巴斯卡稱瑞秋曾格勒「偶像」(icon)\n",
            " 4/01 https://www.ptt.cc/bbs/movie/M.1743440770.A.ED1.html [好雷] 正宗日式純愛電影-366日\n",
            " 4/01 11 (本文已被刪除) [XDGEE]\n",
            " 3/30 https://www.ptt.cc/bbs/movie/M.1743313838.A.315.html [片單] 把暗戀表現得很細膩的電影\n",
            " 3/30 https://www.ptt.cc/bbs/movie/M.1743322183.A.2C5.html Re: [討論] 大家覺得很爛很難看 你卻超喜歡的電影\n",
            " 3/30 https://www.ptt.cc/bbs/movie/M.1743328605.A.CFE.html [新聞] 受日本「租友」文化啟發 奧地利鬼才導演諷刺喜劇顛覆傳統\n",
            " 3/30 https://www.ptt.cc/bbs/movie/M.1743335698.A.AC9.html [新聞] 《麥塊電影》票房3天上看6000萬！接棒《\n",
            " 3/30 https://www.ptt.cc/bbs/movie/M.1743338102.A.0AE.html [情報] 4/18【犯罪直播】中文預告\n",
            " 3/30 https://www.ptt.cc/bbs/movie/M.1743340618.A.CAF.html [問片] 主角家是鞋子工廠\n",
            " 3/30 https://www.ptt.cc/bbs/movie/M.1743341386.A.136.html [討論] 如果時光倒流,讓驚奇少女演白雪公主？\n",
            " 3/30 https://www.ptt.cc/bbs/movie/M.1743342545.A.F07.html [超負雷]《重裝制裁》看到懷疑這是搞笑片嗎？\n",
            " 3/30 https://www.ptt.cc/bbs/movie/M.1743345312.A.F04.html [負雷] 十重點吐槽不知所云的《白雪公主》\n",
            " 3/30 https://www.ptt.cc/bbs/movie/M.1743345768.A.222.html [好雷] 大畫特務2 遠超出期待的收官之作(應該)\n",
            " 3/30 https://www.ptt.cc/bbs/movie/M.1743346533.A.034.html [片單] 愛而不得的片\n",
            " 3/30 https://www.ptt.cc/bbs/movie/M.1743347618.A.C1E.html [好雷] 餘命十年\n",
            " 3/30 https://www.ptt.cc/bbs/movie/M.1743347739.A.76D.html [負雷] 世界計畫 崩壞的世界與無法歌唱的初音未\n",
            " 3/30 https://www.ptt.cc/bbs/movie/M.1743347898.A.603.html [新聞] 傑森史塔森「重裝制裁」讓白雪公主下去\n",
            " 3/30 https://www.ptt.cc/bbs/movie/M.1743348922.A.81D.html [情報] 3/30 當週10部新片預告+Youtube觀看排行\n",
            " 3/30 https://www.ptt.cc/bbs/movie/M.1743349807.A.CCF.html [閒聊] 最頂公路電影\n",
            " 3/31 https://www.ptt.cc/bbs/movie/M.1743351892.A.317.html [好無雷] 無痛先生 意外好看的爽片\n",
            " 3/31 https://www.ptt.cc/bbs/movie/M.1743352619.A.807.html [問片] 一個結尾說要去銀河闖蕩的電影\n",
            " 3/31 https://www.ptt.cc/bbs/movie/M.1743361337.A.355.html [普雷] 寶貝露比 沒反轉\n",
            " 3/31 https://www.ptt.cc/bbs/movie/M.1743365679.A.840.html Re: [新聞] 錯失「超級英雄」角色演員：休傑克曼、\n",
            " 3/29 https://www.ptt.cc/bbs/movie/M.1743235624.A.43A.html [普雷] 《鬼才之道》 \n",
            " 3/29 https://www.ptt.cc/bbs/movie/M.1743236039.A.CEB.html [請益] 封神第二部ScreenX\n",
            " 3/29 https://www.ptt.cc/bbs/movie/M.1743236666.A.8A2.html [LIVE] HBO 22:00 血腥瑪辛\n",
            " 3/29 https://www.ptt.cc/bbs/movie/M.1743237247.A.275.html [問片]女主角被男生強押，用玻璃解危的 電影片段\n",
            " 3/29 https://www.ptt.cc/bbs/movie/M.1743239785.A.E52.html [新聞] 錯失「超級英雄」角色演員：休傑克曼、\n",
            " 3/29 https://www.ptt.cc/bbs/movie/M.1743249332.A.2CB.html [負無雷] 《重裝制裁》大成本的B級片\n",
            " 3/29 https://www.ptt.cc/bbs/movie/M.1743249888.A.5A5.html [選片] 請問明天想要看電影？\n",
            " 3/29 https://www.ptt.cc/bbs/movie/M.1743256268.A.EAD.html [好微雷] 來自誰的啟示 全員無惡人 是誰造就了悲\n",
            " 3/29 https://www.ptt.cc/bbs/movie/M.1743256745.A.8EF.html [反思]重裝制裁：俄羅斯人的鬼片\n",
            " 3/29 https://www.ptt.cc/bbs/movie/M.1743258069.A.D41.html [請益] 飾演過陳真的演員?\n",
            " 3/29 https://www.ptt.cc/bbs/movie/M.1743259038.A.0A7.html [討論] 分享我今年的電影清單\n",
            " 3/30 https://www.ptt.cc/bbs/movie/M.1743264269.A.B1A.html [好雷] 鬼才之道\n",
            " 3/30 https://www.ptt.cc/bbs/movie/M.1743264755.A.3FF.html [討論] 請問有小孩子的《白雪公主》心得嗎?\n",
            " 3/30 https://www.ptt.cc/bbs/movie/M.1743267211.A.826.html [好雷] 《重裝制裁》導演一定有玩GTA\n",
            " 3/30 https://www.ptt.cc/bbs/movie/M.1743297144.A.418.html [討論] 為什麼《會計師》直譯片名而無前綴詞？\n",
            " 3/30 11 (本文已被刪除) [XDGEE]\n",
            " 3/30 https://www.ptt.cc/bbs/movie/M.1743301005.A.7D7.html [新聞] 席德妮史威尼穿比基尼！體態圓潤遭網酸：\n",
            " 3/30 https://www.ptt.cc/bbs/movie/M.1743301256.A.951.html [新聞] 「白雪公主」太欠罵！製片教訓她兒子補刀\n",
            " 3/30 https://www.ptt.cc/bbs/movie/M.1743305334.A.78A.html [討論] 大家覺得很爛很難看 你卻超喜歡的電影\n",
            " 3/30 https://www.ptt.cc/bbs/movie/M.1743311764.A.F6B.html [好無雷]電影版孤獨的美食家:更頂的五郎吃遍世界\n",
            " 3/28 https://www.ptt.cc/bbs/movie/M.1743135472.A.E47.html [情報] iTunes$80起 餐廳失控夜.維多莉亞.湯道 \n",
            " 3/28 https://www.ptt.cc/bbs/movie/M.1743146619.A.2FA.html [討論] 封神第二部特效問題\n",
            " 3/28 https://www.ptt.cc/bbs/movie/M.1743158430.A.A25.html [負雷] 《白雪公主》無恥至極的大爛片\n",
            " 3/28 https://www.ptt.cc/bbs/movie/M.1743160450.A.144.html [好雷] 重裝制裁\n",
            " 3/28 https://www.ptt.cc/bbs/movie/M.1743163145.A.70E.html [好無雷] 太正向了受不了《世界計劃 略》\n",
            " 3/28 https://www.ptt.cc/bbs/movie/M.1743163591.A.5B7.html [片單] 有沒有看完會很負面的電影啊\n",
            " 3/28 https://www.ptt.cc/bbs/movie/M.1743166672.A.E40.html [負雷] 重裝制裁 蜂刑者好看多了 \n",
            " 3/28 https://www.ptt.cc/bbs/movie/M.1743167379.A.691.html Re: [好雷] 重裝制裁\n",
            " 3/28 https://www.ptt.cc/bbs/movie/M.1743167697.A.F95.html [請益] 目前有比白雪公主賠3億更高紀錄嗎？？\n",
            " 3/28 https://www.ptt.cc/bbs/movie/M.1743169529.A.E33.html [爛雷]  古曼童：母愛降靈\n",
            " 3/28 https://www.ptt.cc/bbs/movie/M.1743170335.A.A95.html [情報] 《薩爾達傳說》真人電影版2027/3/26上映\n",
            " 3/28 https://www.ptt.cc/bbs/movie/M.1743170877.A.4CB.html [普雷] 重裝制裁 麻煩不要再試圖做些什麼了\n",
            " 3/29 https://www.ptt.cc/bbs/movie/M.1743185897.A.604.html [討論] 亞歷鮑德溫被他的嫩妻叫閉嘴\n",
            " 3/29 https://www.ptt.cc/bbs/movie/M.1743186838.A.D5A.html [新聞] 《驚奇 4 超人：第一步》的票房挑戰！重\n",
            " 3/29 https://www.ptt.cc/bbs/movie/M.1743187081.A.7F7.html [新聞] 奧斯卡影后麥迪遜《惡靈古堡》重啟主角！\n",
            " 3/29 https://www.ptt.cc/bbs/movie/M.1743192353.A.AC0.html [討論] 《復仇者5》明顯缺少女性\n",
            " 3/29 https://www.ptt.cc/bbs/movie/M.1743208325.A.114.html [片單] 體會日常美好的電影\n",
            " 3/29 https://www.ptt.cc/bbs/movie/M.1743211715.A.4E5.html [負微雷] 重裝制裁\n",
            " 3/29 https://www.ptt.cc/bbs/movie/M.1743226583.A.979.html [好雷] 鬼才之道 \n",
            " 3/29 https://www.ptt.cc/bbs/movie/M.1743226622.A.F49.html Re: [請益] 目前有比白雪公主賠3億更高紀錄嗎？？\n"
          ]
        }
      ]
    }
  ]
}