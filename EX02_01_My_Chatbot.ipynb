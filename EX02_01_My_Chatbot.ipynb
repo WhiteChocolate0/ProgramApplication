{
  "nbformat": 4,
  "nbformat_minor": 0,
  "metadata": {
    "colab": {
      "provenance": [],
      "authorship_tag": "ABX9TyPauRTgIKs8LS7arK+wsmTe",
      "include_colab_link": true
    },
    "kernelspec": {
      "name": "python3",
      "display_name": "Python 3"
    },
    "language_info": {
      "name": "python"
    }
  },
  "cells": [
    {
      "cell_type": "markdown",
      "metadata": {
        "id": "view-in-github",
        "colab_type": "text"
      },
      "source": [
        "<a href=\"https://colab.research.google.com/github/WhiteChocolate0/ProgramApplication/blob/main/EX02_01_My_Chatbot.ipynb\" target=\"_parent\"><img src=\"https://colab.research.google.com/assets/colab-badge.svg\" alt=\"Open In Colab\"/></a>"
      ]
    },
    {
      "cell_type": "code",
      "execution_count": 11,
      "metadata": {
        "id": "0_wo4U5Xq2dw"
      },
      "outputs": [],
      "source": [
        "from google.colab import userdata\n",
        "import google.generativeai as genai\n",
        "\n",
        "# 設定 API 金鑰\n",
        "genai.configure(api_key=userdata.get('GOOGLE_API_KEY'))"
      ]
    },
    {
      "cell_type": "code",
      "source": [
        "# 設定模型參數\n",
        "generation_config = {\n",
        "    \"temperature\": 1,\n",
        "    \"max_output_tokens\": 1280\n",
        "}\n",
        "\n",
        "model = genai.GenerativeModel(model_name=\"gemini-2.0-flash\",\n",
        "                              generation_config=generation_config)"
      ],
      "metadata": {
        "id": "5J_NQ1U849rm"
      },
      "execution_count": 12,
      "outputs": []
    },
    {
      "cell_type": "code",
      "source": [
        "# 建立聊天機器人\n",
        "from IPython.display import display, Markdown\n",
        "\n",
        "chat = model.start_chat(history=[])\n",
        "\n",
        "# 讓使用者輸入並與機器人互動\n",
        "while True:\n",
        "    message = input(\"You: \")  # 使用者輸入\n",
        "    if message.lower() == \"bye\":  # 若輸入 \"bye\"，則結束對話\n",
        "        print(\"Bot: Goodbye!\")\n",
        "        break\n",
        "    response = chat.send_message(message)  # 發送訊息並獲取回應\n",
        "    print(\"Bot:\", response.text)\n",
        "    display(Markdown(response.text))  # 以 Markdown 格式顯示回應"
      ],
      "metadata": {
        "colab": {
          "base_uri": "https://localhost:8080/",
          "height": 219
        },
        "id": "HnOOEW01seuS",
        "outputId": "1cb5197b-0e7b-496d-cb0a-82ba80de8638"
      },
      "execution_count": 14,
      "outputs": [
        {
          "output_type": "stream",
          "name": "stdout",
          "text": [
            "You: hi\n",
            "Bot: Hi there! How can I help you today?\n",
            "\n"
          ]
        },
        {
          "output_type": "display_data",
          "data": {
            "text/plain": [
              "<IPython.core.display.Markdown object>"
            ],
            "text/markdown": "Hi there! How can I help you today?\n"
          },
          "metadata": {}
        },
        {
          "output_type": "stream",
          "name": "stdout",
          "text": [
            "You: I am fine.\n",
            "Bot: Great to hear! If you ever need anything, just let me know. Have a good day!\n",
            "\n"
          ]
        },
        {
          "output_type": "display_data",
          "data": {
            "text/plain": [
              "<IPython.core.display.Markdown object>"
            ],
            "text/markdown": "Great to hear! If you ever need anything, just let me know. Have a good day!\n"
          },
          "metadata": {}
        },
        {
          "output_type": "stream",
          "name": "stdout",
          "text": [
            "You: bye\n",
            "Bot: Goodbye!\n"
          ]
        }
      ]
    }
  ]
}