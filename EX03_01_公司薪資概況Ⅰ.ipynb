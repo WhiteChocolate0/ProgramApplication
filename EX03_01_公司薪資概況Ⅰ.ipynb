{
  "nbformat": 4,
  "nbformat_minor": 0,
  "metadata": {
    "colab": {
      "provenance": [],
      "authorship_tag": "ABX9TyPCIjweEzBjx+E+tPU67gKW",
      "include_colab_link": true
    },
    "kernelspec": {
      "name": "python3",
      "display_name": "Python 3"
    },
    "language_info": {
      "name": "python"
    }
  },
  "cells": [
    {
      "cell_type": "markdown",
      "metadata": {
        "id": "view-in-github",
        "colab_type": "text"
      },
      "source": [
        "<a href=\"https://colab.research.google.com/github/WhiteChocolate0/ProgramApplication/blob/main/EX03_01_%E5%85%AC%E5%8F%B8%E8%96%AA%E8%B3%87%E6%A6%82%E6%B3%81%E2%85%A0.ipynb\" target=\"_parent\"><img src=\"https://colab.research.google.com/assets/colab-badge.svg\" alt=\"Open In Colab\"/></a>"
      ]
    },
    {
      "cell_type": "code",
      "execution_count": null,
      "metadata": {
        "id": "y1Z_6jH0YR29"
      },
      "outputs": [],
      "source": []
    },
    {
      "cell_type": "markdown",
      "source": [
        "## EX03-01 公司薪資概況Ⅰ\n",
        "\n",
        "* 公司薪資資料集\n",
        "* 使用上述字典資料建立 Pandas Dataframe，並進行以下的分析操作：\n",
        "  * 取得 Name 和 Salary 二欄資料\n",
        "  * 取出索引值 5 到 8 共 4 筆資料\n",
        "  * 找出年齡和薪水都高於平均值的人員\n",
        "  * 請問公司人員的平均薪水、及最高、最低薪水、中位數？\n",
        "  * 公司共有幾個部門？那個部門薪水最高？那個部門最年輕？\n",
        "  * 年齡是否與薪資有關？\n",
        "\n"
      ],
      "metadata": {
        "id": "coorPdEPYYsr"
      }
    }
  ]
}