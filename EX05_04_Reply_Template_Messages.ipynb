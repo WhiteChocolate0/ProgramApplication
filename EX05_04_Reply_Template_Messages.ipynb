{
  "nbformat": 4,
  "nbformat_minor": 0,
  "metadata": {
    "colab": {
      "provenance": [],
      "authorship_tag": "ABX9TyPNN6XJKOMufBMsa5SjjWzp",
      "include_colab_link": true
    },
    "kernelspec": {
      "name": "python3",
      "display_name": "Python 3"
    },
    "language_info": {
      "name": "python"
    }
  },
  "cells": [
    {
      "cell_type": "markdown",
      "metadata": {
        "id": "view-in-github",
        "colab_type": "text"
      },
      "source": [
        "<a href=\"https://colab.research.google.com/github/WhiteChocolate0/ProgramApplication/blob/main/EX05_04_Reply_Template_Messages.ipynb\" target=\"_parent\"><img src=\"https://colab.research.google.com/assets/colab-badge.svg\" alt=\"Open In Colab\"/></a>"
      ]
    },
    {
      "cell_type": "markdown",
      "source": [
        "## EX05-04 Reply Template Messages\n",
        "* 依使用者輸入：confirm, buttons, carousel, imgCarousel，分別傳送確認模板、按鈕模板、輪播模板及圖片輪播模板。\n",
        "* 模板上的按鈕能觸發不同類型的 Action Object。"
      ],
      "metadata": {
        "id": "uhoj5J7cWxJ9"
      }
    },
    {
      "cell_type": "code",
      "execution_count": null,
      "metadata": {
        "colab": {
          "base_uri": "https://localhost:8080/"
        },
        "id": "5etBY399WuaK",
        "outputId": "da422fc6-8a5e-4c09-efdb-cf35fe9161a3"
      },
      "outputs": [
        {
          "output_type": "stream",
          "name": "stdout",
          "text": [
            "\u001b[?25l   \u001b[90m━━━━━━━━━━━━━━━━━━━━━━━━━━━━━━━━━━━━━━━━\u001b[0m \u001b[32m0.0/776.1 kB\u001b[0m \u001b[31m?\u001b[0m eta \u001b[36m-:--:--\u001b[0m\r\u001b[2K   \u001b[91m━━━━━━━━━━━━━━━━━━━━━━━━━\u001b[0m\u001b[91m╸\u001b[0m\u001b[90m━━━━━━━━━━━━━━\u001b[0m \u001b[32m501.8/776.1 kB\u001b[0m \u001b[31m11.5 MB/s\u001b[0m eta \u001b[36m0:00:01\u001b[0m\r\u001b[2K   \u001b[90m━━━━━━━━━━━━━━━━━━━━━━━━━━━━━━━━━━━━━━━━\u001b[0m \u001b[32m776.1/776.1 kB\u001b[0m \u001b[31m8.2 MB/s\u001b[0m eta \u001b[36m0:00:00\u001b[0m\n",
            "\u001b[?25h\u001b[?25l   \u001b[90m━━━━━━━━━━━━━━━━━━━━━━━━━━━━━━━━━━━━━━━━\u001b[0m \u001b[32m0.0/165.6 kB\u001b[0m \u001b[31m?\u001b[0m eta \u001b[36m-:--:--\u001b[0m\r\u001b[2K   \u001b[90m━━━━━━━━━━━━━━━━━━━━━━━━━━━━━━━━━━━━━━━━\u001b[0m \u001b[32m165.6/165.6 kB\u001b[0m \u001b[31m5.4 MB/s\u001b[0m eta \u001b[36m0:00:00\u001b[0m\n",
            "\u001b[?25h"
          ]
        }
      ],
      "source": [
        "!pip install -q flask pyngrok flask_ngrok line-bot-sdk"
      ]
    },
    {
      "cell_type": "code",
      "source": [
        "# for colab\n",
        "from google.colab import userdata\n",
        "from flask_ngrok import run_with_ngrok\n",
        "import flask_ngrok\n",
        "\n",
        "def ngrok_start():\n",
        "    ngrok_auth_token = userdata.get(\"NGROK_AUTHTOKEN\")\n",
        "    ngrok.connect(5000)\n",
        "    run_with_ngrok(app)\n",
        "\n",
        "from flask import Flask, request, abort\n",
        "\n",
        "from linebot.v3 import WebhookHandler\n",
        "from linebot.v3.exceptions import InvalidSignatureError\n",
        "from linebot.v3.webhooks import MessageEvent, TextMessageContent\n",
        "from linebot.v3.messaging import (\n",
        "    Configuration, ApiClient, MessagingApi,\n",
        "    ReplyMessageRequest,\n",
        "    TextMessage, StickerMessage, ImageMessage, VideoMessage, LocationMessage\n",
        ")\n",
        "\n",
        "app = Flask(__name__)\n",
        "\n",
        "configuration = Configuration(access_token=userdata.get(\"LINE_CHANNEL_ACCESS_TOKEN\"))\n",
        "handler = WebhookHandler(userdata.get(\"LINE_CHANNEL_SECRET\"))\n",
        "\n",
        "@app.route(\"/callback\", methods=[\"POST\"])\n",
        "def callback():\n",
        "    signature = request.headers['X-Line-Signature']\n",
        "    body = request.get_data(as_text=True)\n",
        "    try:\n",
        "        handler.handle(body, signature)\n",
        "    except InvalidSignatureError:\n",
        "        abort(400)\n",
        "    return \"OK\"\n",
        "\n",
        "import google.generativeai as genai\n",
        "\n",
        "genai.configure(api_key=userdata.get(\"GOOGLE_API_KEY\"))\n",
        "model = genai.GenerativeModel(model_name=\"gemini-1.0-pro\")\n",
        "def ask_gemini(question):\n",
        "    response = model.generate_content(question)\n",
        "    return response.text\n",
        "\n",
        "@handler.add(MessageEvent, message=TextMessageContent)\n",
        "def handle_message(event):\n",
        "    with ApiClient(configuration) as api_client:\n",
        "        line_bot_api = MessagingApi(api_client)\n",
        "\n",
        "        action = event.message.text\n",
        "        if action == \"sticker\":\n",
        "            reply = StickerMessage(\n",
        "                package_id=\"446\",\n",
        "                sticker_id=\"1989\"\n",
        "            )\n",
        "        elif action == \"image\":\n",
        "            reply = ImageMessage(\n",
        "                original_content_url=\"https://cdn.pixabay.com/photo/2019/02/21/18/36/city-4011922_1280.jpg\",\n",
        "                preview_image_url=\"https://cdn.pixabay.com/photo/2019/02/21/18/36/city-4011922_1280.jpg\"\n",
        "            )\n",
        "        elif action == \"video\":\n",
        "            reply = VideoMessage(\n",
        "                original_content_url=\"https://cdn.pixabay.com/video/2021/08/07/60742-573496615_large.mp4\",\n",
        "                preview_image_url=\"https://cdn.pixabay.com/photo/2017/11/14/05/41/taipei-taiwan-2947814_1280.jpg\"\n",
        "            )\n",
        "        elif action == \"location\":\n",
        "            reply = LocationMessage(\n",
        "                title=\"台北101\",\n",
        "                address=\"台北市信義路五段7號\",\n",
        "                latitude=25.03409570979266,\n",
        "                longitude=121.564536536767\n",
        "            )\n",
        "        else:\n",
        "            response = ask_gemini(action)\n",
        "            reply = TextMessage(text=response)\n",
        "\n",
        "        line_bot_api.reply_message(\n",
        "            ReplyMessageRequest(\n",
        "                reply_token=event.reply_token,\n",
        "                messages=[reply]\n",
        "            )\n",
        "        )\n",
        "\n",
        "# ngrok_start() # for colab\n",
        "if __name__ == \"__main__\":\n",
        "    app.run()"
      ],
      "metadata": {
        "id": "E3X2D7ZHXBnS",
        "colab": {
          "base_uri": "https://localhost:8080/"
        },
        "outputId": "bb623b2a-937e-4687-dcb7-8bb550218b9b"
      },
      "execution_count": 3,
      "outputs": [
        {
          "output_type": "stream",
          "name": "stdout",
          "text": [
            " * Serving Flask app '__main__'\n",
            " * Debug mode: off\n"
          ]
        },
        {
          "output_type": "stream",
          "name": "stderr",
          "text": [
            "INFO:werkzeug:\u001b[31m\u001b[1mWARNING: This is a development server. Do not use it in a production deployment. Use a production WSGI server instead.\u001b[0m\n",
            " * Running on http://127.0.0.1:5000\n",
            "INFO:werkzeug:\u001b[33mPress CTRL+C to quit\u001b[0m\n"
          ]
        }
      ]
    }
  ]
}